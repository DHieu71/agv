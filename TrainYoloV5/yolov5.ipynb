{
  "cells": [
    {
      "cell_type": "code",
      "execution_count": null,
      "metadata": {
        "colab": {
          "base_uri": "https://localhost:8080/"
        },
        "id": "UrF4_Ra5HPnz",
        "outputId": "104b7d56-5c63-4e9b-83a7-165110d5ed6f"
      },
      "outputs": [],
      "source": [
        "# clone code yoloV5 from github\n",
        "!git clone https://github.com/ultralytics/yolov5"
      ]
    },
    {
      "cell_type": "code",
      "execution_count": null,
      "metadata": {
        "colab": {
          "base_uri": "https://localhost:8080/"
        },
        "id": "LbByhXGaN7eh",
        "outputId": "dc39576d-c6ee-424a-a214-464645b870f3"
      },
      "outputs": [],
      "source": [
        "# move file path\n",
        "%cd /content/yolov5"
      ]
    },
    {
      "cell_type": "code",
      "execution_count": null,
      "metadata": {
        "colab": {
          "base_uri": "https://localhost:8080/"
        },
        "id": "ECCB29q_KFYu",
        "outputId": "f4499cef-eec2-4631-d873-eb31fa31c999"
      },
      "outputs": [],
      "source": [
        "# install all lib using\n",
        "!pip install -r /content/yolov5/requirements.txt"
      ]
    },
    {
      "cell_type": "code",
      "execution_count": null,
      "metadata": {
        "id": "fzcFgRUjLUm9"
      },
      "outputs": [],
      "source": [
        "# unrar file\n",
        "# !unrar x FieDir"
      ]
    },
    {
      "cell_type": "code",
      "execution_count": null,
      "metadata": {
        "id": "p9iAzyFjNeOL"
      },
      "outputs": [],
      "source": [
        "# access yolov5/data/coco128.yaml\n",
        "# edit filepath in row 11\n",
        "# add object in row 98 and more"
      ]
    },
    {
      "cell_type": "code",
      "execution_count": null,
      "metadata": {
        "id": "ZPwwDaayMy4U"
      },
      "outputs": [],
      "source": [
        "# %cd fileDir ggcolab\n",
        "# train\n",
        "!python .../train.py --img 640 --batch 16 --epochs 100 --data coco128.yaml --weights yolov5s.pt"
      ]
    }
  ],
  "metadata": {
    "accelerator": "GPU",
    "colab": {
      "provenance": []
    },
    "gpuClass": "standard",
    "kernelspec": {
      "display_name": "Python 3",
      "name": "python3"
    },
    "language_info": {
      "name": "python"
    }
  },
  "nbformat": 4,
  "nbformat_minor": 0
}
